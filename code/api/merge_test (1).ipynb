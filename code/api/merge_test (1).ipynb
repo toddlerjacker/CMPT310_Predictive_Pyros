{
 "cells": [
  {
   "cell_type": "code",
   "execution_count": 1,
   "id": "670f6e0c-442f-4d4d-b320-214d37902c9a",
   "metadata": {},
   "outputs": [],
   "source": [
    "import pandas as pd\n",
    "import numpy as np\n",
    "from sklearn.neighbors import BallTree\n",
    "\n",
    "evi = pd.read_csv('EVI.csv')\n",
    "root_wetness = pd.read_csv('root_wetness.csv')\n",
    "danger_ratings = pd.read_csv('2023_danger_ratings.csv')"
   ]
  },
  {
   "cell_type": "code",
   "execution_count": 2,
   "id": "a51f263a-548d-46db-b442-fa89ccc1457c",
   "metadata": {},
   "outputs": [
    {
     "name": "stdout",
     "output_type": "stream",
     "text": [
      "##### EVI #####\n",
      "          lon        lat  evi        date\n",
      "0 -139.062500  60.004167 -554  2023-03-22\n",
      "1 -139.054167  60.004167 -554  2023-03-22\n",
      "2 -139.045833  60.004167 -299  2023-03-22\n",
      "3 -139.037500  60.004167 -299  2023-03-22\n",
      "4 -139.029167  60.004167 -221  2023-03-22\n",
      "\n",
      "##### Root Wetness #####\n",
      "          lon        lat  root_wetness        date\n",
      "0 -139.043207  60.029287      0.858716  2023-03-22\n",
      "1 -138.924922  60.029287      0.563794  2023-03-22\n",
      "2 -138.806638  60.029287      0.565503  2023-03-22\n",
      "3 -138.688354  60.029287      0.566968  2023-03-22\n",
      "4 -138.570070  60.029287      0.577222  2023-03-22\n",
      "\n",
      "##### Danger Ratings #####\n",
      "   STATION_CODE   DATE_TIME  DANGER_RATING   LATITUDE  LONGITUDE  ELEVATION_M\n",
      "0            11  2023-05-05            1.0  48.927567  -124.6469          671\n",
      "1            11  2023-05-06            1.0  48.927567  -124.6469          671\n",
      "2            11  2023-05-07            1.0  48.927567  -124.6469          671\n",
      "3            11  2023-05-08            1.0  48.927567  -124.6469          671\n",
      "4            11  2023-05-09            1.0  48.927567  -124.6469          671\n"
     ]
    }
   ],
   "source": [
    "print(\"##### EVI #####\")\n",
    "print(evi.head(5))\n",
    "print(\"\\n##### Root Wetness #####\")\n",
    "print(root_wetness.head(5))\n",
    "print(\"\\n##### Danger Ratings #####\")\n",
    "print(danger_ratings.head(5))"
   ]
  },
  {
   "cell_type": "code",
   "execution_count": 3,
   "id": "182b0a1c-c242-434b-8bd2-020031c0773a",
   "metadata": {},
   "outputs": [
    {
     "name": "stdout",
     "output_type": "stream",
     "text": [
      "       STATION_CODE   DATE_TIME  DANGER_RATING   LATITUDE   LONGITUDE  \\\n",
      "1917             72  2023-03-22            1.0  49.264481 -122.573202   \n",
      "2179             75  2023-03-22            2.0  50.571080 -124.077719   \n",
      "2435             82  2023-03-22            2.0  51.189111 -125.028056   \n",
      "22360           280  2023-03-22            2.0  50.672017 -121.888183   \n",
      "23601           298  2023-03-22            2.0  50.206667 -119.480000   \n",
      "\n",
      "       ELEVATION_M  \n",
      "1917           146  \n",
      "2179            49  \n",
      "2435           122  \n",
      "22360          408  \n",
      "23601          670  \n"
     ]
    }
   ],
   "source": [
    "#Filter Danger Ratings to evi satellite data date\n",
    "target_datetime = root_wetness['date'].iloc[0]\n",
    "filtered = danger_ratings[danger_ratings['DATE_TIME'] == target_datetime]\n",
    "print(filtered.head())"
   ]
  },
  {
   "cell_type": "code",
   "execution_count": 4,
   "id": "3e2a8d69-0e6d-4e39-a59e-20c2b122ef31",
   "metadata": {},
   "outputs": [],
   "source": [
    "filtered = filtered.rename(columns={'LATITUDE': 'lat', 'LONGITUDE': 'lon'})\n",
    "def to_radians(df):\n",
    "    return np.radians(df[['lat', 'lon']].values)\n",
    "\n",
    "df1_rad = to_radians(filtered)\n",
    "df2_rad = to_radians(root_wetness)"
   ]
  },
  {
   "cell_type": "code",
   "execution_count": 5,
   "id": "6a92f145-db71-4770-be29-01a91fb77261",
   "metadata": {},
   "outputs": [],
   "source": [
    "# Create K-D tree or Ball Tree and join with closest latitude/longitude\n",
    "tree = BallTree(df2_rad, metric='haversine')\n",
    "\n",
    "distances, indices = tree.query(df1_rad, k=1)\n",
    "\n",
    "filtered['match_index'] = indices.flatten()\n",
    "filtered['distance_km'] = distances.flatten() * 6371\n",
    "\n",
    "df2_reset = root_wetness.reset_index(drop=True)\n",
    "joined = filtered.join(df2_reset, on='match_index', rsuffix='_df2')\n",
    "\n",
    "joined = joined.drop(columns='match_index')"
   ]
  },
  {
   "cell_type": "code",
   "execution_count": 6,
   "id": "6da25d77-611b-41a4-a64f-0f1ccc370171",
   "metadata": {},
   "outputs": [
    {
     "name": "stdout",
     "output_type": "stream",
     "text": [
      "       STATION_CODE   DATE_TIME  DANGER_RATING        lat         lon  \\\n",
      "1917             72  2023-03-22            1.0  49.264481 -122.573202   \n",
      "2179             75  2023-03-22            2.0  50.571080 -124.077719   \n",
      "2435             82  2023-03-22            2.0  51.189111 -125.028056   \n",
      "22360           280  2023-03-22            2.0  50.672017 -121.888183   \n",
      "23601           298  2023-03-22            2.0  50.206667 -119.480000   \n",
      "\n",
      "       ELEVATION_M  distance_km     lon_df2    lat_df2  root_wetness  \\\n",
      "1917           146     2.069570 -122.601688  49.265415      0.880689   \n",
      "2179            49     4.030499 -124.021099  50.566543      0.355908   \n",
      "2435           122     5.302961 -125.085658  51.157964      0.351392   \n",
      "22360          408     1.449362 -121.891982  50.684827      0.448194   \n",
      "23601          670     3.341552 -119.526296  50.211690      0.389234   \n",
      "\n",
      "             date  \n",
      "1917   2023-03-22  \n",
      "2179   2023-03-22  \n",
      "2435   2023-03-22  \n",
      "22360  2023-03-22  \n",
      "23601  2023-03-22  \n",
      "14\n"
     ]
    }
   ],
   "source": [
    "# append results to an output csv\n",
    "print(joined.head())\n",
    "print(len(joined))"
   ]
  },
  {
   "cell_type": "code",
   "execution_count": null,
   "id": "ac95bcd4-54fe-441a-8d13-be5aeb0b5bea",
   "metadata": {},
   "outputs": [],
   "source": []
  }
 ],
 "metadata": {
  "kernelspec": {
   "display_name": "Python 3 (ipykernel)",
   "language": "python",
   "name": "python3"
  },
  "language_info": {
   "codemirror_mode": {
    "name": "ipython",
    "version": 3
   },
   "file_extension": ".py",
   "mimetype": "text/x-python",
   "name": "python",
   "nbconvert_exporter": "python",
   "pygments_lexer": "ipython3",
   "version": "3.10.18"
  }
 },
 "nbformat": 4,
 "nbformat_minor": 5
}
